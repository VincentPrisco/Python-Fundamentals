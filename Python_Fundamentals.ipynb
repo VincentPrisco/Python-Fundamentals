{
  "nbformat": 4,
  "nbformat_minor": 0,
  "metadata": {
    "colab": {
      "name": "Python Fundamentals.ipynb",
      "provenance": [],
      "collapsed_sections": []
    },
    "kernelspec": {
      "name": "python3",
      "display_name": "Python 3"
    },
    "language_info": {
      "name": "python"
    }
  },
  "cells": [
    {
      "cell_type": "markdown",
      "source": [
        "# Variables and Data Types"
      ],
      "metadata": {
        "id": "zn6XGF7TWueV"
      }
    },
    {
      "cell_type": "code",
      "execution_count": null,
      "metadata": {
        "id": "u9ofdi0zWory"
      },
      "outputs": [],
      "source": [
        "angka = 5 \n",
        "angka_berkoma = 3.85\n",
        "nama = \"Vincent\"\n",
        "\n",
        "#print (angka)  \n",
        "#print (angka_berkoma)\n",
        "#print(str(angka) + \" \" + str(angka_berkoma))\n",
        "#print (\"Nama saya adalah \" + nama)\n",
        "\n",
        "#print(type(angka))\n",
        "#print(type(angka_berkoma))\n",
        "#print(type(nama))\n",
        "\n",
        "nama = input(\"Masukkan namamu: \")\n",
        "print(\"Halo, \" + nama)\n",
        "            "
      ]
    },
    {
      "cell_type": "markdown",
      "source": [
        "# Numbers"
      ],
      "metadata": {
        "id": "LJP-COrKWzGd"
      }
    },
    {
      "cell_type": "code",
      "source": [
        "angka1 = 5\n",
        "angka2 = 3\n",
        "\n",
        "print (\"Hasil penjumlahan: \" + str(angka1+angka2))\n",
        "print(angka1%angka2)\n",
        "print(2**3)\n",
        "print(angka1/angka2)\n",
        "print(angka1//angka2)\n",
        "\n",
        "angka = 7\n",
        "\n",
        "#cara 1\n",
        "#angka = angka + 5\n",
        "print(\"Angka setelah ditambah: \" + str(angka))\n",
        "\n",
        "#cara 2\n",
        "angka += 5\n",
        "\n",
        "#Math\n",
        "import math \n",
        "\n",
        "# Using Methods\n",
        "print(math.pow(2,3))\n",
        "print(math.ceil(3.2))\n",
        "print(math.sqrt(25))\n",
        "\n",
        "# Using Constants\n",
        "print(math.pi)\n",
        "\n"
      ],
      "metadata": {
        "id": "j8-l7YFFW27O"
      },
      "execution_count": null,
      "outputs": []
    },
    {
      "cell_type": "markdown",
      "source": [
        "# String"
      ],
      "metadata": {
        "id": "Z6mVwhvGW3bs"
      }
    },
    {
      "cell_type": "code",
      "source": [
        "#Escape\n",
        "#print(\"Selamat datang di \\\"Coding Studio\\\"!\")\n",
        "\n",
        "#Methods\n",
        "\n",
        "#text=\"Coding Studio\"\n",
        "#print(text.upper())\n",
        "#print(text.lower())\n",
        "#print(len(text))\n",
        "#print(text.split(' '))\n",
        "#print(text.capitalize())\n",
        "#print(text.index('S'))\n",
        "\n",
        "#String Format\n",
        "\n",
        "#mangga = 5\n",
        "#apel = 7\n",
        "#pisang = 4\n",
        "#text = \"Cecep membeli {} mangga, {} apel, dan {} pisang.\"\n",
        "#print(text.format(mangga, apel, pisang))\n",
        "\n",
        "#In Vs. Not In\n",
        "\n",
        "text = \"Saya senang belajar Python\"\n",
        "\n",
        "print(\"Python\" in text)\n",
        "print(\"Javascript\" in text)\n"
      ],
      "metadata": {
        "id": "T8k64DhPW51z"
      },
      "execution_count": null,
      "outputs": []
    },
    {
      "cell_type": "markdown",
      "source": [
        "# Conditionals"
      ],
      "metadata": {
        "id": "kqpLbvYEW68-"
      }
    },
    {
      "cell_type": "code",
      "source": [
        "x = 5\n",
        "y = 10\n",
        "z = 15\n",
        "\n",
        "print(x > y)\n",
        "print( x < y)\n",
        "\n",
        "print(not(x > y))\n",
        "\n",
        "print(x < y and y > z)\n",
        "print(x < y or y > z)\n"
      ],
      "metadata": {
        "id": "FNMNV7D3W-FC"
      },
      "execution_count": null,
      "outputs": []
    },
    {
      "cell_type": "markdown",
      "source": [
        "# Conditionals 2"
      ],
      "metadata": {
        "id": "MWrRoat-W-di"
      }
    },
    {
      "cell_type": "code",
      "source": [
        "a = 10\n",
        "b = 5\n",
        "\n",
        "if a > b:\n",
        "    print(\"A lebih besar dari B\")\n",
        "elif a == b:\n",
        "    print(\"A sama dengan B\")\n",
        "else:\n",
        "    print(\"B lebih besar dari A\")"
      ],
      "metadata": {
        "id": "myAJDXXIXDZY"
      },
      "execution_count": null,
      "outputs": []
    },
    {
      "cell_type": "markdown",
      "source": [
        "# Loop"
      ],
      "metadata": {
        "id": "CHUCtaZDXEjy"
      }
    },
    {
      "cell_type": "code",
      "source": [
        "# start = 0, stop = 6, step = 1\n",
        "# default parameter\n",
        "# for i in range(6):\n",
        "#   print(\"Looping!\")\n",
        "\n",
        "#for i in range(5, 30, 5):\n",
        "#   print(i)\n",
        "\n",
        "# angka kelipatan 3, tapi stop di 21\n",
        "#for i in range(3, 50, 3):\n",
        "#    if i == 21:\n",
        "#        break\n",
        "\n",
        "#    print(i)\n",
        "\n",
        "# Print angka ganjil dari 1 sampai 10\n",
        "\n",
        "#for i in range (1, 11):\n",
        "    #skip semua angka genap\n",
        "#    if i % 2 == 0:\n",
        "#        continue\n",
        "#    print(i)\n",
        "\n",
        "nilai = 50 \n",
        "\n",
        "while(nilai < 70):\n",
        "    print(\"Nilai sekarang: \" + str(nilai))\n",
        "    nilai += 5\n",
        "\n"
      ],
      "metadata": {
        "id": "bB8NNEYRXF5e"
      },
      "execution_count": null,
      "outputs": []
    },
    {
      "cell_type": "markdown",
      "source": [
        "# Data Types"
      ],
      "metadata": {
        "id": "6RQ7_ELaXHlS"
      }
    },
    {
      "cell_type": "code",
      "source": [
        "# append, insert\n",
        "# remove, pop, del, clear\n",
        "# list iteration\n",
        "# check if an item exists in list\n",
        "# methods: len, copy, concat (+ dan extend), index, sort, reverse\n",
        "\n",
        "# listExample = ['Python', 42, 3.9, True, 42]\n",
        "\n",
        "# print(listExample[0])\n",
        "# print(listExample[1:4])\n",
        "# print(listExample[-1])\n",
        "# print(listExample)\n",
        "\n",
        "#listExample = [42, 'Python', 3.84, 50]\n",
        "# listExample.insert(1, 'Data Science')\n",
        "# listExample.append('Javascript') #masukin elemen ke paling belakang list\n",
        "# print(listExample)\n",
        "\n",
        "# listExample.remove('Python')\n",
        "# print(listExample)\n",
        "\n",
        "#listExample.pop()\n",
        "#print(listExample)\n",
        "\n",
        "#listExample.clear()\n",
        "#print(listExample)\n",
        "\n",
        "#List Iteration\n",
        "#listExample = [40, 55, 20, 75, 80]\n",
        "#for item in listExample:\n",
        "#   if item % 2 == 0:\n",
        "#    print(item)\n",
        "\n",
        "#if 40 in listExample:\n",
        "#    print(\"Terdapat angka 40 di dalam listExample\")\n",
        "\n",
        "# methods: len, copy, concat (+ dan extend), index, sort, reverse\n",
        "\n",
        "# listExample = [40, 55, 20]\n",
        "# listExample2 = [75, 100]\n",
        "# listExample2 = listExample.copy()\n",
        "# listExample2[0] = 100\n",
        "# print(listExample)\n",
        "# print(listExample2)\n",
        "\n",
        "# cara 1 print(listExample + listExample2)\n",
        "# cara 2 listExample.extend(listExample2)\n",
        "# print(listExample)\n",
        "\n",
        "# print(listExample.index(55))\n",
        "# listExample.sort()\n",
        "# print(listExample)\n",
        "\n",
        "# tupleExample = ('Python', 20, 3.8, True, 20)\n",
        "# print(tupleExample)\n",
        "\n",
        "# customer = {\n",
        "#    \"id\": 100,\n",
        "#    \"nama\": \"Budi\",\n",
        "#    \"umur\": 23\n",
        "# }\n",
        "\n",
        "# customer[\"pekerjaan\"] = \"programmer\"\n",
        "# customer.pop(\"umur\")\n",
        "\n",
        "# print(customer)\n",
        "# print(customer[\"nama\"])\n",
        "\n",
        "numbers1 = {1, 3, 5, 4, 10}\n",
        "numbers2 = {3, 4, 10, 7, 8}\n",
        "\n",
        "# numbers_union = numbers1.union(numbers2)\n",
        "# print(numbers_union)\n",
        "\n",
        "# difference1 = numbers1.difference(numbers2)\n",
        "# print(difference1)\n",
        "\n",
        "# intersect = numbers1.intersection(numbers2)\n",
        "# print(intersect)\n",
        "\n",
        "# sym_difference = numbers1.symmetric_difference(numbers2)\n",
        "# print(sym_difference)\n",
        "\n"
      ],
      "metadata": {
        "id": "4ko_tddZXI7e"
      },
      "execution_count": null,
      "outputs": []
    },
    {
      "cell_type": "markdown",
      "source": [
        "# Functions"
      ],
      "metadata": {
        "id": "DlqgXH3sXKAx"
      }
    },
    {
      "cell_type": "code",
      "source": [
        "#def greet():\n",
        "#    print(\"Hello, stranger!\")\n",
        "\n",
        "#greet()\n",
        "\n",
        "# def greet(name):\n",
        "#    print(\"Hello, \" + name)\n",
        "\n",
        "# greet(\"Budi\")\n",
        "# greet(\"Ahmad\")\n",
        "# greet(\"Cecep\")\n",
        "\n",
        "#parameter = name, age\n",
        "#def greet(name, age):\n",
        "#    print(\"Name: \" + name)\n",
        "#    print(\"Age:\" + str(age))\n",
        "\n",
        "#cara 1\n",
        "#greet(\"Budi\", 20)\n",
        "\n",
        "#cara 2\n",
        "#greet(age=20, name=\"cecep\")\n",
        "\n",
        "#def add5(number):\n",
        "#    total = number / 5\n",
        "#    return total\n",
        "\n",
        "#number = 10\n",
        "#number_added_5 = add5(number)\n",
        "#print(number_added_5)\n",
        "\n",
        "#lambda\n",
        "add5 = lambda x: x+2\n",
        "print(add5(2))"
      ],
      "metadata": {
        "id": "2MrBQsQHXLkt"
      },
      "execution_count": null,
      "outputs": []
    },
    {
      "cell_type": "markdown",
      "source": [
        "# Class"
      ],
      "metadata": {
        "id": "PAg6UCMUXNHR"
      }
    },
    {
      "cell_type": "code",
      "source": [
        "# class Angka:\n",
        "#    jumlah = 5\n",
        "\n",
        "# a = Angka()\n",
        "# print(a.jumlah)\n",
        "\n",
        "class Person:\n",
        "    def __init__(self, name, age, score):\n",
        "        self.name = name\n",
        "        self.age = age\n",
        "        self.score = score\n",
        "\n",
        "    def greet(self):\n",
        "        print(\"Halo, \" + self.name + \"!\")\n",
        "\n",
        "p1 = Person(\"Cecep\", 20, 95)\n",
        "p2 = Person(\"Budi\", 25, 80)\n",
        "\n",
        "print(p1.__dict__)\n",
        "print(p2.__dict__)\n",
        "\n",
        "p1.greet()\n",
        "p2.greet()"
      ],
      "metadata": {
        "id": "xYwgLrMbXONr"
      },
      "execution_count": null,
      "outputs": []
    },
    {
      "cell_type": "markdown",
      "source": [
        "# File Processing"
      ],
      "metadata": {
        "id": "U-CDSkgFXPgs"
      }
    },
    {
      "cell_type": "code",
      "source": [
        "file = open(\"coding-studio.txt\", \"r\")\n",
        "\n",
        "print(file.read())"
      ],
      "metadata": {
        "id": "Ce6z3b_wXRwK"
      },
      "execution_count": null,
      "outputs": []
    }
  ]
}